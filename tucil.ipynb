{
 "cells": [
  {
   "attachments": {},
   "cell_type": "markdown",
   "metadata": {},
   "source": [
    "# Tugas Kecil 1 IF3270  \n",
    "## Eksplorasi library Algoritme Pembelajaran pada Jupyter Notebook\n",
    "\n",
    "\n",
    "Anggota Kelompok:\n",
    "- 13520065 - Rayhan Kinan Muhannad\n",
    "- 13520081 - Andhika Arta Aryanto\n"
   ]
  },
  {
   "cell_type": "code",
   "execution_count": 1,
   "metadata": {},
   "outputs": [
    {
     "name": "stdout",
     "output_type": "stream",
     "text": [
      "<class 'pandas.core.frame.DataFrame'>\n",
      "RangeIndex: 569 entries, 0 to 568\n",
      "Data columns (total 31 columns):\n",
      " #   Column                   Non-Null Count  Dtype  \n",
      "---  ------                   --------------  -----  \n",
      " 0   mean radius              569 non-null    float64\n",
      " 1   mean texture             569 non-null    float64\n",
      " 2   mean perimeter           569 non-null    float64\n",
      " 3   mean area                569 non-null    float64\n",
      " 4   mean smoothness          569 non-null    float64\n",
      " 5   mean compactness         569 non-null    float64\n",
      " 6   mean concavity           569 non-null    float64\n",
      " 7   mean concave points      569 non-null    float64\n",
      " 8   mean symmetry            569 non-null    float64\n",
      " 9   mean fractal dimension   569 non-null    float64\n",
      " 10  radius error             569 non-null    float64\n",
      " 11  texture error            569 non-null    float64\n",
      " 12  perimeter error          569 non-null    float64\n",
      " 13  area error               569 non-null    float64\n",
      " 14  smoothness error         569 non-null    float64\n",
      " 15  compactness error        569 non-null    float64\n",
      " 16  concavity error          569 non-null    float64\n",
      " 17  concave points error     569 non-null    float64\n",
      " 18  symmetry error           569 non-null    float64\n",
      " 19  fractal dimension error  569 non-null    float64\n",
      " 20  worst radius             569 non-null    float64\n",
      " 21  worst texture            569 non-null    float64\n",
      " 22  worst perimeter          569 non-null    float64\n",
      " 23  worst area               569 non-null    float64\n",
      " 24  worst smoothness         569 non-null    float64\n",
      " 25  worst compactness        569 non-null    float64\n",
      " 26  worst concavity          569 non-null    float64\n",
      " 27  worst concave points     569 non-null    float64\n",
      " 28  worst symmetry           569 non-null    float64\n",
      " 29  worst fractal dimension  569 non-null    float64\n",
      " 30  target                   569 non-null    int32  \n",
      "dtypes: float64(30), int32(1)\n",
      "memory usage: 135.7 KB\n",
      "None\n"
     ]
    }
   ],
   "source": [
    "from sklearn.datasets import load_breast_cancer\n",
    "import pandas as pd\n",
    "\n",
    "data = load_breast_cancer()\n",
    "\n",
    "#konversi data ke dataframe\n",
    "\n",
    "df = pd.DataFrame(data.data, columns=data.feature_names)\n",
    "df['target'] = pd.Series(data.target)\n",
    "\n",
    "#Print 5 data teratas\n",
    "print(df.info())\n"
   ]
  },
  {
   "cell_type": "code",
   "execution_count": 2,
   "metadata": {},
   "outputs": [
    {
     "name": "stdout",
     "output_type": "stream",
     "text": [
      "['malignant' 'benign']\n"
     ]
    }
   ],
   "source": [
    "#Print informasi lebih mengenai dataset\n",
    "print(data.target_names)\n"
   ]
  },
  {
   "attachments": {},
   "cell_type": "markdown",
   "metadata": {},
   "source": [
    "Setelah melakukan eksplorasi singkat pada dataset, terdapat beberapa hal yang perlu diperhatikan:\n",
    "\n",
    "- Dataset yang digunakan memiliki 30 atribut, dimana 29 atribut merupakan atribut input dan 1 atribut merupakan atribut output (target). Seluruh atribut merupakan atribut numerik. \n",
    "\n",
    "Berarti, dalam konteks tugas kecil ini, 29 atribut input tersebut akan menjadi variabel prediktor dalam model machine learning untuk menentukan apakah suatu data termasuk data berkelas 0 (malignant) atau 1 (benign)."
   ]
  },
  {
   "attachments": {},
   "cell_type": "markdown",
   "metadata": {},
   "source": [
    "## 1. Membagi dataset menjadi data training dan data testing"
   ]
  },
  {
   "cell_type": "code",
   "execution_count": 3,
   "metadata": {},
   "outputs": [],
   "source": [
    "#Membagi dataset menjadi 80% data training dan 20% data testing\n",
    "from sklearn.model_selection import train_test_split\n",
    "\n",
    "X_train, X_test, y_train, y_test = train_test_split(data.data, data.target, test_size=0.2)\n"
   ]
  },
  {
   "cell_type": "code",
   "execution_count": null,
   "metadata": {},
   "outputs": [],
   "source": []
  },
  {
   "attachments": {},
   "cell_type": "markdown",
   "metadata": {},
   "source": [
    "## 2. Melakukan pembelajar dengan algortima berikut ini:\n",
    "\n",
    "a. DecisionTreeClassifier (http://scikit-learn.org/stable/modules/tree.html)  \n",
    "b. Id3Estimator (https://github.com/svaante/decision-tree-id3)  \n",
    "c. K Means (https://scikit-learn.org/0.19/modules/generated/sklearn.cluster.KMeans.html  \n",
    "d. LogisticRegression (https://scikit-learn.org/stable/modules/generated/sklearn.linear_model.LogisticRegression.html)  \n",
    "e. Neural_network (https://scikit-learn.org/stable/modules/generated/sklearn.neural_network.MLPClassifier.html)   \n",
    "f. SVM (https://scikit-learn.org/stable/modules/generated/sklearn.svm.SVC.html#sklearn.svm.SVC)  \n"
   ]
  },
  {
   "attachments": {},
   "cell_type": "markdown",
   "metadata": {},
   "source": [
    "### 2.1 DecisionTreeClassifier "
   ]
  },
  {
   "cell_type": "code",
   "execution_count": 4,
   "metadata": {},
   "outputs": [
    {
     "name": "stdout",
     "output_type": "stream",
     "text": [
      "|--- worst area <= 884.55\n",
      "|   |--- worst concave points <= 0.16\n",
      "|   |   |--- area error <= 32.98\n",
      "|   |   |   |--- worst texture <= 30.15\n",
      "|   |   |   |   |--- class: 1\n",
      "|   |   |   |--- worst texture >  30.15\n",
      "|   |   |   |   |--- mean concavity <= 0.13\n",
      "|   |   |   |   |   |--- smoothness error <= 0.00\n",
      "|   |   |   |   |   |   |--- class: 0\n",
      "|   |   |   |   |   |--- smoothness error >  0.00\n",
      "|   |   |   |   |   |   |--- worst smoothness <= 0.14\n",
      "|   |   |   |   |   |   |   |--- class: 1\n",
      "|   |   |   |   |   |   |--- worst smoothness >  0.14\n",
      "|   |   |   |   |   |   |   |--- worst smoothness <= 0.14\n",
      "|   |   |   |   |   |   |   |   |--- class: 0\n",
      "|   |   |   |   |   |   |   |--- worst smoothness >  0.14\n",
      "|   |   |   |   |   |   |   |   |--- class: 1\n",
      "|   |   |   |   |--- mean concavity >  0.13\n",
      "|   |   |   |   |   |--- class: 0\n",
      "|   |   |--- area error >  32.98\n",
      "|   |   |   |--- worst concave points <= 0.11\n",
      "|   |   |   |   |--- worst symmetry <= 0.20\n",
      "|   |   |   |   |   |--- mean radius <= 11.74\n",
      "|   |   |   |   |   |   |--- class: 1\n",
      "|   |   |   |   |   |--- mean radius >  11.74\n",
      "|   |   |   |   |   |   |--- class: 0\n",
      "|   |   |   |   |--- worst symmetry >  0.20\n",
      "|   |   |   |   |   |--- class: 1\n",
      "|   |   |   |--- worst concave points >  0.11\n",
      "|   |   |   |   |--- area error <= 39.44\n",
      "|   |   |   |   |   |--- class: 0\n",
      "|   |   |   |   |--- area error >  39.44\n",
      "|   |   |   |   |   |--- class: 1\n",
      "|   |--- worst concave points >  0.16\n",
      "|   |   |--- area error <= 18.10\n",
      "|   |   |   |--- class: 1\n",
      "|   |   |--- area error >  18.10\n",
      "|   |   |   |--- class: 0\n",
      "|--- worst area >  884.55\n",
      "|   |--- mean concavity <= 0.06\n",
      "|   |   |--- mean texture <= 19.54\n",
      "|   |   |   |--- mean concavity <= 0.04\n",
      "|   |   |   |   |--- class: 0\n",
      "|   |   |   |--- mean concavity >  0.04\n",
      "|   |   |   |   |--- class: 1\n",
      "|   |   |--- mean texture >  19.54\n",
      "|   |   |   |--- class: 0\n",
      "|   |--- mean concavity >  0.06\n",
      "|   |   |--- class: 0\n",
      "\n"
     ]
    }
   ],
   "source": [
    "from sklearn import tree\n",
    "\n",
    "#Membuat model Decision Tree\n",
    "DTCmodel = tree.DecisionTreeClassifier()\n",
    "DTCmodel.fit(X_train, y_train)\n",
    "\n",
    "# Tampilkan model pohon hadil Decision Tree dengan method export_text\n",
    "\n",
    "\n",
    "text_representation = tree.export_text(DTCmodel, feature_names= list(data.feature_names))\n",
    "print(text_representation)\n"
   ]
  },
  {
   "attachments": {},
   "cell_type": "markdown",
   "metadata": {},
   "source": [
    "### 2.2 Id3Estimator"
   ]
  },
  {
   "cell_type": "code",
   "execution_count": 10,
   "metadata": {},
   "outputs": [
    {
     "ename": "ModuleNotFoundError",
     "evalue": "No module named 'id3'",
     "output_type": "error",
     "traceback": [
      "\u001b[1;31m---------------------------------------------------------------------------\u001b[0m",
      "\u001b[1;31mModuleNotFoundError\u001b[0m                       Traceback (most recent call last)",
      "\u001b[1;32m~\\AppData\\Local\\Temp/ipykernel_9444/3189435441.py\u001b[0m in \u001b[0;36m<module>\u001b[1;34m\u001b[0m\n\u001b[0;32m      4\u001b[0m \u001b[1;33m\u001b[0m\u001b[0m\n\u001b[0;32m      5\u001b[0m \u001b[1;31m#Import library ID3\u001b[0m\u001b[1;33m\u001b[0m\u001b[1;33m\u001b[0m\u001b[0m\n\u001b[1;32m----> 6\u001b[1;33m \u001b[1;32mfrom\u001b[0m \u001b[0mid3\u001b[0m \u001b[1;32mimport\u001b[0m \u001b[0mId3Estimator\u001b[0m\u001b[1;33m\u001b[0m\u001b[1;33m\u001b[0m\u001b[0m\n\u001b[0m\u001b[0;32m      7\u001b[0m \u001b[1;33m\u001b[0m\u001b[0m\n\u001b[0;32m      8\u001b[0m \u001b[1;31m#Membuat model ID3\u001b[0m\u001b[1;33m\u001b[0m\u001b[1;33m\u001b[0m\u001b[0m\n",
      "\u001b[1;31mModuleNotFoundError\u001b[0m: No module named 'id3'"
     ]
    }
   ],
   "source": [
    "import six \n",
    "import sys\n",
    "sys.modules['sklearn.externals.six'] = six\n",
    "\n",
    "#Import library ID3\n",
    "from id3 import Id3Estimator\n",
    "\n",
    "#Membuat model ID3\n",
    "ID3model = Id3Estimator()\n",
    "ID3model.fit(X_train, y_train)"
   ]
  },
  {
   "attachments": {},
   "cell_type": "markdown",
   "metadata": {},
   "source": [
    "### 2.3 K Means"
   ]
  },
  {
   "cell_type": "code",
   "execution_count": null,
   "metadata": {},
   "outputs": [],
   "source": [
    "from sklearn.cluster import KMeans\n",
    "\n",
    "#Membuat model K-Means\n",
    "KMeansmodel = KMeans(n_clusters=2, n_init=10, init=\"random\")\n",
    "KMeansmodel.fit(X_train)\n",
    "\n"
   ]
  },
  {
   "attachments": {},
   "cell_type": "markdown",
   "metadata": {},
   "source": [
    "### 2.4 LogisticRegression"
   ]
  },
  {
   "cell_type": "code",
   "execution_count": null,
   "metadata": {},
   "outputs": [],
   "source": [
    "#Membuat model Logistic Regression"
   ]
  },
  {
   "attachments": {},
   "cell_type": "markdown",
   "metadata": {},
   "source": [
    "### 2.5 Neural_network"
   ]
  },
  {
   "cell_type": "code",
   "execution_count": null,
   "metadata": {},
   "outputs": [],
   "source": [
    "#Membuat model Neural Network"
   ]
  },
  {
   "attachments": {},
   "cell_type": "markdown",
   "metadata": {},
   "source": [
    "### 2.6 SVM"
   ]
  },
  {
   "cell_type": "code",
   "execution_count": null,
   "metadata": {},
   "outputs": [],
   "source": [
    "#Membuat model SVM"
   ]
  },
  {
   "attachments": {},
   "cell_type": "markdown",
   "metadata": {},
   "source": [
    "## 3. Simpan model hasil pembelajaran dengan pustaka pickle"
   ]
  },
  {
   "cell_type": "code",
   "execution_count": null,
   "metadata": {},
   "outputs": [],
   "source": []
  }
 ],
 "metadata": {
  "kernelspec": {
   "display_name": "base",
   "language": "python",
   "name": "python3"
  },
  "language_info": {
   "codemirror_mode": {
    "name": "ipython",
    "version": 3
   },
   "file_extension": ".py",
   "mimetype": "text/x-python",
   "name": "python",
   "nbconvert_exporter": "python",
   "pygments_lexer": "ipython3",
   "version": "3.9.7"
  },
  "orig_nbformat": 4,
  "vscode": {
   "interpreter": {
    "hash": "60d7ddc9aef159b4ac3083e7fff90e20450a731ff0ea1182586f8ff4db90d75e"
   }
  }
 },
 "nbformat": 4,
 "nbformat_minor": 2
}
